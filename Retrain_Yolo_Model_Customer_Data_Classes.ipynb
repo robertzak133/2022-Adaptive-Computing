{
  "cells": [
    {
      "cell_type": "markdown",
      "metadata": {
        "id": "view-in-github",
        "colab_type": "text"
      },
      "source": [
        "<a href=\"https://colab.research.google.com/github/robertzak133/2022-Adaptive-Computing/blob/main/Retrain_Yolo_Model_Customer_Data_Classes.ipynb\" target=\"_parent\"><img src=\"https://colab.research.google.com/assets/colab-badge.svg\" alt=\"Open In Colab\"/></a>"
      ]
    },
    {
      "cell_type": "markdown",
      "metadata": {
        "id": "TgIkSB3-t8Ly"
      },
      "source": [
        "# Transfer Learning Retraining of Yolov3 object Detector\n",
        "In which I: load a pre-trained version of Yolov3; train it with proivate dataset of labeled trail camear photos; and output it for Quantization an Compilation with Xilinx Tools.  Based on outline in [YOLOv3-Custom-Object-Detection](https://github.com/NSTiwari/YOLOv3-Custom-Object-Detection)"
      ]
    },
    {
      "cell_type": "markdown",
      "metadata": {
        "id": "pnoUGNsquSEL"
      },
      "source": [
        "## Loading Data\n",
        "I am using a dataset comprising trail camera photos taken before and during 2020 and automatically annoted using [Microsoft Megadetector](https://github.com/microsoft/CameraTraps/blob/main/megadetector.md).  Note that there are three classes: animal, people, vehicles.  Note that Megadetector is very good, but not perfect, so some of the images are, in fact known to be mislabeled. "
      ]
    },
    {
      "cell_type": "markdown",
      "metadata": {
        "id": "-tPLcJt9u3WL"
      },
      "source": [
        "### Mount GoogleDrive"
      ]
    },
    {
      "cell_type": "code",
      "execution_count": null,
      "metadata": {
        "id": "XYsrTTR7eF0r"
      },
      "outputs": [],
      "source": [
        "from google.colab import drive\n",
        "drive.mount('/content/drive')"
      ]
    },
    {
      "cell_type": "markdown",
      "metadata": {
        "id": "p6iXMHrgo0hg"
      },
      "source": [
        "# Training using Darknet; Export using Cafee\n",
        "\n",
        "See \"tutorial\" at https://github.com/Xilinx/Vitis-AI-Tutorials/tree/1.3/Design_Tutorials/07-yolov4-tutorial"
      ]
    },
    {
      "cell_type": "markdown",
      "metadata": {
        "id": "WF_v8xVjLRl8"
      },
      "source": [
        "## Create the Dataset in the Darknet Format\n",
        "We have a hierarchical set of high resolution files, and a json file which describes all the labels therein.   What we need is a flat set of all files in which each <image>.jpg comes with an <image>.txt.  \n",
        "\n",
        "We're going to sample out of the space to get a desired data set size.  We'll convert all the photos to 800x800 pixels while we're at it. We also need to change the BBOX format"
      ]
    },
    {
      "cell_type": "markdown",
      "source": [
        "### 416 Resolution for YOLOv3"
      ],
      "metadata": {
        "id": "iWCpVz2VH3W1"
      }
    },
    {
      "cell_type": "code",
      "source": [
        "!rm -r /content/drive/MyDrive/WBWL2020/res416/\n",
        "!mkdir /content/drive/MyDrive/WBWL2020/res416/\n",
        "!mkdir /content/drive/MyDrive/WBWL2020/res416/training\n",
        "!mkdir /content/drive/MyDrive/WBWL2020/res416/validation\n"
      ],
      "metadata": {
        "id": "xZY7doMNIFW5"
      },
      "execution_count": null,
      "outputs": []
    },
    {
      "cell_type": "markdown",
      "source": [
        "### 608 Resolution for YOLVv4"
      ],
      "metadata": {
        "id": "mqllYotOH_JU"
      }
    },
    {
      "cell_type": "code",
      "execution_count": null,
      "metadata": {
        "id": "DhRHy11U5YDK"
      },
      "outputs": [],
      "source": [
        "!rm -r /content/drive/MyDrive/WBWL2020/res608/\n"
      ]
    },
    {
      "cell_type": "code",
      "execution_count": null,
      "metadata": {
        "id": "PZGVpcRC32Wr"
      },
      "outputs": [],
      "source": [
        "!mkdir /content/drive/MyDrive/WBWL2020/res608\n",
        "!mkdir /content/drive/MyDrive/WBWL2020/res608/training\n",
        "!mkdir /content/drive/MyDrive/WBWL2020/res608/validation"
      ]
    },
    {
      "cell_type": "code",
      "source": [
        ""
      ],
      "metadata": {
        "id": "LYfRl1h5IVko"
      },
      "execution_count": null,
      "outputs": []
    },
    {
      "cell_type": "markdown",
      "source": [
        "## Utility Code for Creating a Sample of Image Set\n",
        "The dataset has about 13K photos, many of which are similar.  Instead of training on the whole set, I take a random sample of configurable size.  This code also converts the .json file produced by MegaDetector and converts it to the format required by the darknet training tools."
      ],
      "metadata": {
        "id": "PO31J0n-IWUu"
      }
    },
    {
      "cell_type": "code",
      "execution_count": null,
      "metadata": {
        "id": "kOQWSvYWQhpC"
      },
      "outputs": [],
      "source": [
        "import random\n",
        "import string\n",
        "import json\n",
        "import PIL\n",
        "from PIL import Image\n",
        "import os\n",
        "from os.path import exists"
      ]
    },
    {
      "cell_type": "code",
      "execution_count": null,
      "metadata": {
        "id": "jnI55wh6MjNC"
      },
      "outputs": [],
      "source": [
        "# Convert a megadector bbox list [x_min, y_min, width_of_box, height_of_box] to\n",
        "#    [center_x, center_y, width_of_box, heigh_of_box] \n",
        "def md_to_dn_bbox(x_min, y_min, width_of_box, height_of_box):\n",
        "  center_x = (x_min + width_of_box) / 2.0\n",
        "  center_y = (y_min + height_of_box) / 2.0\n",
        "  return (center_x, center_y, width_of_box, height_of_box)\n",
        "\n",
        "md_to_dn_bbox(0.1, 0.2, 0.5, 0.4)"
      ]
    },
    {
      "cell_type": "code",
      "execution_count": null,
      "metadata": {
        "id": "kPig1on2QTvk"
      },
      "outputs": [],
      "source": [
        "# create a random name for the image comprising two fields of lower case hex\n",
        "#    digits and a suffix\n",
        "#    zak 2022-03-21: TODO\n",
        "#        what I really need is a unique name, but I'm going to let that slide\n",
        "def create_random_name(length1, length2):\n",
        "  lc_hex = \"0123456789abcdef\"\n",
        "  result_str = ''.join(random.choice(lc_hex) for i in range(length1))\n",
        "  result_str += '-'\n",
        "  result_str += ''.join(random.choice(lc_hex) for i in range(length2))\n",
        "  return result_str\n",
        "\n",
        "create_random_name(5,5)"
      ]
    },
    {
      "cell_type": "code",
      "execution_count": null,
      "metadata": {
        "id": "lDuYsVCtVIfm"
      },
      "outputs": [],
      "source": [
        "# Convert a json file to a python dictionary\n",
        "def json_to_python_dict(json_file):\n",
        "  # Open JSON file \n",
        "  f = open(json_file)\n",
        "  # returns JSON object as\n",
        "  # a dictionary\n",
        "  p_dict = json.load(f)\n",
        "  f.close()\n",
        "  return p_dict\n",
        "\n",
        "#json_to_python_dict(\"/content/drive/MyDrive/WBWL2020/colab_meta_data.json\")"
      ]
    },
    {
      "cell_type": "code",
      "execution_count": null,
      "metadata": {
        "id": "C4sC1k4d2Pst"
      },
      "outputs": [],
      "source": [
        "# Returns the total number of images to sample from a given json dictionary\n",
        "def get_image_indices(p_dict, training_images, validation_fraction):\n",
        "  total_images = len(p_dict['images'])\n",
        "  selected_images = 0\n",
        "  index_list = ()\n",
        "  if total_images > training_images * (1.0+validation_fraction):\n",
        "    # we use a fraction of the data set \n",
        "    selected_images = int(training_images * (1.0 +validation_fraction))\n",
        "    print(\"get_image_indices: selected_images = \"+ str(selected_images))\n",
        "    index_list = random.sample(range(0, total_images), selected_images)\n",
        "  else:\n",
        "    # we have to use the whole data set\n",
        "    selected_images = total_images\n",
        "    index_list = range(0, total_images)\n",
        "  return (index_list)"
      ]
    },
    {
      "cell_type": "code",
      "execution_count": null,
      "metadata": {
        "id": "AeMAeM9t84Kj"
      },
      "outputs": [],
      "source": [
        "# Write all the images in a given list of indices\n",
        "def write_image_meta_data(name, j_dict, index_list, output_dir, image_dimension):\n",
        "  # Loop through the dictionary for everything in the list\n",
        "  directory_path = os.path.join(output_dir, name)\n",
        "  count = 0\n",
        "  for image_index in index_list:\n",
        "    random_filename = create_random_name(5,5)\n",
        "    image_descriptor = j_dict['images'][image_index]\n",
        "    image_filename = image_descriptor['file']\n",
        "    if not(exists(image_filename)):\n",
        "      print(\"Aborting \" + str(image_index) + \": file does not exist\")\n",
        "      continue\n",
        "    if os.path.getsize(image_filename) < 10: \n",
        "      print(\"Aborting \" + str(image_index) + \": file is truncated\")\n",
        "      continue\n",
        "    count= 1+ count\n",
        "    print(str(count) + ':' + image_filename)\n",
        "    # open the image file and write it out resized\n",
        "    image = Image.open(image_filename)\n",
        "    image = image.resize((image_dimension, image_dimension))\n",
        "    image.save(os.path.join(directory_path, random_filename + \".jpg\"))\n",
        "    # write out a meta-data file\n",
        "    meta_data_filename = os.path.join(directory_path, random_filename + '.txt')\n",
        "    with open(meta_data_filename, 'w',encoding = 'utf-8') as mdf:\n",
        "      for detection in image_descriptor['detections']:\n",
        "        ## Yolo wants a zero-based category ID -- I don't know how it handles empty images\n",
        "        category = int(detection['category']) - 1\n",
        "        xmin, ymin, xsize, ysize = detection['bbox']\n",
        "        xcent, ycent, width, height = md_to_dn_bbox(xmin, ymin, xsize, ysize)\n",
        "        mdf.write(str(category) + ' ' + str(xcent) + ' '+str(ycent) + ' ' + str(width) + ' ' +str(height) + '\\n')\n",
        "  return"
      ]
    },
    {
      "cell_type": "code",
      "execution_count": null,
      "metadata": {
        "id": "hD01mZ1iXs0r"
      },
      "outputs": [],
      "source": [
        "# Write Validation and Training Images and Meta Data\n",
        "def write_images_metadata(p_dict, output_dir, training_images, validation_fraction, image_dimension):\n",
        "  # get the number total number of images we'll use\n",
        "  total_index_list = get_image_indices(p_dict, training_images, validation_fraction)\n",
        "  num_val_images = int(len(total_index_list) * (validation_fraction/(1.0+ validation_fraction)))\n",
        "  print (num_val_images)\n",
        "  val_index_list = total_index_list[:num_val_images]\n",
        "  training_index_list = total_index_list[num_val_images:]\n",
        "  print('Writing Validation Dataset')\n",
        "  write_image_meta_data('validation', p_dict, val_index_list, output_dir, image_dimension)\n",
        "  print('Writing Training Dataset')\n",
        "  write_image_meta_data('training', p_dict, training_index_list, output_dir, image_dimension)\n",
        "  return"
      ]
    },
    {
      "cell_type": "code",
      "execution_count": null,
      "metadata": {
        "id": "q56NFe4oMFCu"
      },
      "outputs": [],
      "source": [
        "# Extract \n",
        "def json_to_darknet(json_file, output_dir, max_training_images, validation_fraction, image_dimension):\n",
        "  print(\"json_to_darknet\")\n",
        "  print(\"   json_file  = \" + json_file)\n",
        "  print(\"   output_dir = \" + output_dir)\n",
        "  print(\"   max_training_images = \" + str(max_training_images))\n",
        "  print(\"   validation_fraction = \" + str(validation_fraction))\n",
        "  print(\"   image_dimension     = \" + str(image_dimension))\n",
        "  # \n",
        "  j_dict = json_to_python_dict(json_file)\n",
        "  write_images_metadata(j_dict, output_dir, max_training_images, validation_fraction, image_dimension)  \n",
        "  return\n",
        "\n",
        "\n"
      ]
    },
    {
      "cell_type": "markdown",
      "source": [
        "### Create Resolution 416 Image List"
      ],
      "metadata": {
        "id": "CVX4Sfk7IrpS"
      }
    },
    {
      "cell_type": "code",
      "source": [
        "json_to_darknet(\"/content/drive/MyDrive/WBWL2020/colab_meta_data.json\", \"/content/drive/MyDrive/WBWL2020/res416/\", 2000, 0.20, 416)"
      ],
      "metadata": {
        "id": "eoFdluFCIxO5"
      },
      "execution_count": null,
      "outputs": []
    },
    {
      "cell_type": "markdown",
      "source": [
        "### Create Resolution 608 Image List\n"
      ],
      "metadata": {
        "id": "DcgngRG4Iz26"
      }
    },
    {
      "cell_type": "code",
      "source": [
        "json_to_darknet(\"/content/drive/MyDrive/WBWL2020/colab_meta_data.json\", \"/content/drive/MyDrive/WBWL2020/res608/\", 2500, 0.20, 608)"
      ],
      "metadata": {
        "id": "scFFkW7lI3nC"
      },
      "execution_count": null,
      "outputs": []
    },
    {
      "cell_type": "markdown",
      "metadata": {
        "id": "RUpWk770GEga"
      },
      "source": [
        "## YOLOv3-Custom-Object-Detection\n",
        "From https://github.com/NSTiwari/YOLOv3-Custom-Object-Detection/blob/main/YOLOv3_Custom_Object_Detection.ipynb"
      ]
    },
    {
      "cell_type": "markdown",
      "metadata": {
        "id": "2TF-oqP94pQD"
      },
      "source": [
        "### 1. Clone, configure & compile Darknet"
      ]
    },
    {
      "cell_type": "code",
      "execution_count": null,
      "metadata": {
        "id": "zqHPtVOm4pQD"
      },
      "outputs": [],
      "source": [
        "# Clone\n",
        "!git clone https://github.com/AlexeyAB/darknet"
      ]
    },
    {
      "cell_type": "code",
      "execution_count": null,
      "metadata": {
        "id": "A6Kq_Az84pQD"
      },
      "outputs": [],
      "source": [
        "# Configure\n",
        "%cd darknet\n",
        "!sed -i 's/OPENCV=0/OPENCV=1/' Makefile\n",
        "!sed -i 's/GPU=0/GPU=1/' Makefile\n",
        "!sed -i 's/CUDNN=0/CUDNN=1/' Makefile"
      ]
    },
    {
      "cell_type": "code",
      "execution_count": null,
      "metadata": {
        "id": "_akO1eJc4pQE"
      },
      "outputs": [],
      "source": [
        "# Compile\n",
        "!make"
      ]
    },
    {
      "cell_type": "markdown",
      "metadata": {
        "id": "_Md2ZhTw5Jtp"
      },
      "source": [
        "### 2. Configure yolov3.cfg file"
      ]
    },
    {
      "cell_type": "code",
      "execution_count": null,
      "metadata": {
        "id": "6FLS3wEJHGqB"
      },
      "outputs": [],
      "source": [
        "# Make a copy of yolov3.cfg\n",
        "!cp cfg/yolov3.cfg cfg/yolov3_training.cfg"
      ]
    },
    {
      "cell_type": "code",
      "execution_count": null,
      "metadata": {
        "id": "OWsZsPMV5Jtx"
      },
      "outputs": [],
      "source": [
        "# Change lines in yolov3.cfg file\n",
        "# note filters = 3 * (classes + 5)\n",
        "!sed -i 's/batch=1/batch=64/' cfg/yolov3_training.cfg\n",
        "!sed -i 's/subdivisions=1/subdivisions=16/' cfg/yolov3_training.cfg\n",
        "!sed -i 's/max_batches = 500200/max_batches = 6000/' cfg/yolov3_training.cfg\n",
        "!sed -i '610 s@classes=80@classes=3@' cfg/yolov3_training.cfg\n",
        "!sed -i '696 s@classes=80@classes=3@' cfg/yolov3_training.cfg\n",
        "!sed -i '783 s@classes=80@classes=3@' cfg/yolov3_training.cfg\n",
        "!sed -i '603 s@filters=255@filters=24@' cfg/yolov3_training.cfg\n",
        "!sed -i '689 s@filters=255@filters=24@' cfg/yolov3_training.cfg\n",
        "!sed -i '776 s@filters=255@filters=24@' cfg/yolov3_training.cfg"
      ]
    },
    {
      "cell_type": "code",
      "source": [
        "!cp cfg/yolov3_training.cfg cfg/yolov3_testing.cfg"
      ],
      "metadata": {
        "id": "9M7vmML4AbnR"
      },
      "execution_count": null,
      "outputs": []
    },
    {
      "cell_type": "code",
      "execution_count": null,
      "metadata": {
        "id": "jf3xKsCf5Jtx"
      },
      "outputs": [],
      "source": [
        "!grep classes cfg/yolov3_testing.cfg"
      ]
    },
    {
      "cell_type": "markdown",
      "metadata": {
        "id": "N4kVO3QiHepI"
      },
      "source": [
        "### 3. Create .names and .data files"
      ]
    },
    {
      "cell_type": "code",
      "execution_count": null,
      "metadata": {
        "id": "dEkshgBuHsVZ"
      },
      "outputs": [],
      "source": [
        "!echo -e 'Animal\\nPerson\\nVehicle' > data/obj.names\n",
        "!echo -e 'classes= 3\\ntrain  = data/train.txt\\nvalid  = data/test.txt\\nnames = data/obj.names\\nbackup = /content/drive/MyDrive/Models/yolov3_ct' > data/obj.data\n"
      ]
    },
    {
      "cell_type": "markdown",
      "metadata": {
        "id": "nqpGQoFVI7r3"
      },
      "source": [
        "### 4. Save yolov3_training.cfg and obj.names files in Google Drive"
      ]
    },
    {
      "cell_type": "code",
      "execution_count": null,
      "metadata": {
        "id": "R9K5gg0PJGlj"
      },
      "outputs": [],
      "source": [
        "!cp cfg/yolov3_training.cfg /content/drive/MyDrive/Models/yolov3_ct/yolov3_training.cfg\n",
        "!cp cfg/yolov3_testing.cfg /content/drive/MyDrive/Models/yolov3_ct/yolov3_testing.cfg\n",
        "!cp data/obj.names /content/drive/MyDrive/Models/yolov3_ct/classes.txt"
      ]
    },
    {
      "cell_type": "markdown",
      "metadata": {
        "id": "AuhO4wkEJgMt"
      },
      "source": [
        "### 5. Create a Local Folder for image dataset"
      ]
    },
    {
      "cell_type": "code",
      "source": [
        "!ls /content/drive/MyDrive/WBWL2020/res416/training"
      ],
      "metadata": {
        "id": "w5UuBYxlVGov"
      },
      "execution_count": null,
      "outputs": []
    },
    {
      "cell_type": "code",
      "execution_count": null,
      "metadata": {
        "id": "w9yYYvMeJml5"
      },
      "outputs": [],
      "source": [
        "!rm -r data/obj\n",
        "!mkdir data/obj\n",
        "!cp /content/drive/MyDrive/WBWL2020/res416/training/* data/obj/\n",
        "!cp /content/drive/MyDrive/WBWL2020/res416/validation/* data/obj/"
      ]
    },
    {
      "cell_type": "markdown",
      "metadata": {
        "id": "PbOKRUiMrm8t"
      },
      "source": [
        "### 6. Create train.txt and valid.txt files"
      ]
    },
    {
      "cell_type": "code",
      "execution_count": null,
      "metadata": {
        "id": "yfzeiIPjrlp8"
      },
      "outputs": [],
      "source": [
        "import glob\n",
        "images_list = glob.glob(\"/content/drive/MyDrive/WBWL2020/res416/training/*.jpg\")\n",
        "with open(\"data/train.txt\", \"w\") as f:\n",
        "    f.write(\"\\n\".join(images_list))"
      ]
    },
    {
      "cell_type": "code",
      "execution_count": null,
      "metadata": {
        "id": "JP8d6_CwHL21"
      },
      "outputs": [],
      "source": [
        "images_list = glob.glob(\"/content/drive/MyDrive/WBWL2020/res416/validation/*.jpg\")\n",
        "with open(\"data/test.txt\", \"w\") as f:\n",
        "  f.write(\"\\n\".join(images_list))"
      ]
    },
    {
      "cell_type": "code",
      "execution_count": null,
      "metadata": {
        "id": "6dA0ID_sIjOH"
      },
      "outputs": [],
      "source": [
        "!head data/train.txt"
      ]
    },
    {
      "cell_type": "code",
      "source": [
        "!head data/test.txt"
      ],
      "metadata": {
        "id": "0sIYOQfAA2yD"
      },
      "execution_count": null,
      "outputs": []
    },
    {
      "cell_type": "markdown",
      "metadata": {
        "id": "-ghOa7grrx7B"
      },
      "source": [
        "### 7. Download pre-trained wieght for the convoluational layers file"
      ]
    },
    {
      "cell_type": "code",
      "execution_count": null,
      "metadata": {
        "id": "IxhjZ4q8r5UB"
      },
      "outputs": [],
      "source": [
        "!wget https://pjreddie.com/media/files/darknet53.conv.74"
      ]
    },
    {
      "cell_type": "markdown",
      "metadata": {
        "id": "NviDrc7bsHQB"
      },
      "source": [
        "### 8. Start Training"
      ]
    },
    {
      "cell_type": "code",
      "execution_count": null,
      "metadata": {
        "id": "jZeUYKe0sJ95"
      },
      "outputs": [],
      "source": [
        "#!./darknet detector train data/obj.data cfg/yolov3_training.cfg darknet53.conv.74 -dont_show\n",
        "# Uncomment below and comment above to re-start your training from last saved weights\n",
        "!./darknet detector train data/obj.data cfg/yolov3_training.cfg /content/drive/MyDrive/Models/yolov3_ct/yolov3_training_last.weights -dont_show"
      ]
    },
    {
      "cell_type": "markdown",
      "metadata": {
        "id": "eDxFCFkCDKpF"
      },
      "source": [
        "### 9. Testing Resulting Model\n",
        "In which I run the validation set through the model to see how it works. "
      ]
    },
    {
      "cell_type": "code",
      "execution_count": null,
      "metadata": {
        "id": "d3hbuBmkDb0T"
      },
      "outputs": [],
      "source": [
        "!rm -r results\n",
        "!mkdir results\n"
      ]
    },
    {
      "cell_type": "code",
      "execution_count": null,
      "metadata": {
        "id": "18qCJqFjL6wE"
      },
      "outputs": [],
      "source": [
        "!./darknet detector map data/obj.data cfg/yolov3_testing.cfg /content/drive/MyDrive/Models/yolov3_ct/yolov3_training_final.weights -dont_show"
      ]
    },
    {
      "cell_type": "markdown",
      "metadata": {
        "id": "UwMktb8NNh6q"
      },
      "source": [
        "### 10. Converting the Model to .xmodel format \n",
        "I (eventually) tried slightly modified versions of Xilinx Conversion scripts outlined in the \"caffe\" route through quantization and compilation:  \n",
        "https://github.com/Xilinx/Vitis-AI-Tutorials/tree/1.3/Design_Tutorials/07-yolov4-tutorial\n",
        "\n",
        "This work is continued in a platform (unlike colab) which supports docker and Vitis-AI toolset.  See you there. "
      ]
    },
    {
      "cell_type": "markdown",
      "metadata": {
        "id": "HUzGYFq_4K41"
      },
      "source": [
        "## YOLOv4 Custom Object Detection\n",
        "Following outline https://github.com/Xilinx/Vitis-AI-Tutorials/tree/1.3/Design_Tutorials/07-yolov4-tutorial\n",
        "\n",
        "This is work in progress"
      ]
    },
    {
      "cell_type": "markdown",
      "metadata": {
        "id": "8H5F9nA2GcNa"
      },
      "source": [
        "### 1. Clone, configure & compile Darknet"
      ]
    },
    {
      "cell_type": "code",
      "execution_count": null,
      "metadata": {
        "id": "GAfys3ZjGqDD"
      },
      "outputs": [],
      "source": [
        "# Clone\n",
        "!git clone https://github.com/AlexeyAB/darknet"
      ]
    },
    {
      "cell_type": "code",
      "execution_count": null,
      "metadata": {
        "id": "Yc6eqDcZGvo6"
      },
      "outputs": [],
      "source": [
        "# Configure\n",
        "%cd darknet\n",
        "!sed -i 's/OPENCV=0/OPENCV=1/' Makefile\n",
        "!sed -i 's/GPU=0/GPU=1/' Makefile\n",
        "!sed -i 's/CUDNN=0/CUDNN=1/' Makefile"
      ]
    },
    {
      "cell_type": "code",
      "execution_count": null,
      "metadata": {
        "id": "4ebvYt10G1U0"
      },
      "outputs": [],
      "source": [
        "# Compile\n",
        "!make"
      ]
    },
    {
      "cell_type": "code",
      "execution_count": null,
      "metadata": {
        "id": "gE3OScFJGO5l"
      },
      "outputs": [],
      "source": [
        "# Check if NVIDIA GPU is Enabled\n",
        "!nvidia-smi"
      ]
    },
    {
      "cell_type": "markdown",
      "metadata": {
        "id": "qma911MlG9Lk"
      },
      "source": [
        "### 2. Configure yolov4.cfg file"
      ]
    },
    {
      "cell_type": "code",
      "execution_count": null,
      "metadata": {
        "id": "-8TOuKYj5Jtx"
      },
      "outputs": [],
      "source": [
        "# Make a copy of yolov4.cfg\n",
        "!cp cfg/yolov4.cfg cfg/yolov4_training.cfg"
      ]
    },
    {
      "cell_type": "code",
      "execution_count": null,
      "metadata": {
        "id": "Ax5tn-8_HVzH"
      },
      "outputs": [],
      "source": [
        "# Change lines in yolov4.cfg file\n",
        "# Change the size of the input\n",
        "#!sed -i 's/width=608/width=416/' cfg/yolov4_training.cfg\n",
        "#!sed -i 's/height=608/height=416/' cfg/yolov4_training.cfg\n",
        "# \"the MISH activation layers are swapped to leaky as the DPU doesn't support MISH.\"\n",
        "!sed -i 's/activation=mish/activation=leaky/' cfg/yolov4_training.cfg\n",
        "# \"I saw the best post Quantization accuracy results when commenting out the \n",
        "#  3 max_pooling layers as follows. Note the route layers were changed to \n",
        "#  -1,-3,-4,-6 from -1,-3,-5,-6\"\n",
        "!sed -i '771 s@\\[maxpool\\]@#\\[maxpool\\]@' cfg/yolov4_training.cfg\n",
        "!sed -i '772 s@stride=1@#stride=1@' cfg/yolov4_training.cfg\n",
        "!sed -i '773 s@size=5@#size=5@' cfg/yolov4_training.cfg\n",
        "!sed -i '775 s@\\[route\\]@#\\[route\\]@' cfg/yolov4_training.cfg\n",
        "!sed -i '776 s@layers=-2@#layers=-2@' cfg/yolov4_training.cfg\n",
        "#\n",
        "!sed -i '778 s@\\[maxpool\\]@#\\[maxpool\\]@' cfg/yolov4_training.cfg\n",
        "!sed -i '779 s@stride=1@#stride=1@' cfg/yolov4_training.cfg\n",
        "!sed -i '780 s@size=9@#size=9@' cfg/yolov4_training.cfg\n",
        "!sed -i '782 s@\\[route\\]@#\\[route\\]@' cfg/yolov4_training.cfg\n",
        "!sed -i '783 s@layers=-4@#layers=-4@' cfg/yolov4_training.cfg\n",
        "#\n",
        "!sed -i '785 s@\\[maxpool\\]@#\\[maxpool\\]@' cfg/yolov4_training.cfg\n",
        "!sed -i '786 s@stride=1@#stride=1@' cfg/yolov4_training.cfg\n",
        "!sed -i '787 s@size=13@#size=13@' cfg/yolov4_training.cfg\n",
        "!sed -i '789 s@\\[route\\]@#\\[route\\]@' cfg/yolov4_training.cfg\n",
        "!sed -i '790 s@layers=-1,-3,-5,-6@#layers=-1,-3,-4,-6@' cfg/yolov4_training.cfg\n",
        "# Other Changes\n",
        "# !sed -i 's/subdivisions=1/subdivisions=16/' cfg/yolov4_training.cfg\n",
        "!sed -i 's/max_batches = 500500/max_batches = 6000/' cfg/yolov4_training.cfg\n",
        "!sed -i '968 s@classes=80@classes=3@' cfg/yolov4_training.cfg\n",
        "!sed -i '1056 s@classes=80@classes=3@' cfg/yolov4_training.cfg\n",
        "!sed -i '1144 s@classes=80@classes=3@' cfg/yolov4_training.cfg\n",
        "!sed -i '961 s@filters=255@filters=24@' cfg/yolov4_training.cfg\n",
        "!sed -i '1049 s@filters=255@filters=24@' cfg/yolov4_training.cfg\n",
        "!sed -i '1137 s@filters=255@filters=24@' cfg/yolov4_training.cfg"
      ]
    },
    {
      "cell_type": "code",
      "execution_count": null,
      "metadata": {
        "id": "AUC1OVvQy2bF"
      },
      "outputs": [],
      "source": [
        "!head cfg/yolov4_training.cfg"
      ]
    },
    {
      "cell_type": "code",
      "source": [
        "!cp cfg/yolov4_training.cfg cfg/yolov4_testing.cfg"
      ],
      "metadata": {
        "id": "iqdiRngvrGZQ"
      },
      "execution_count": null,
      "outputs": []
    },
    {
      "cell_type": "code",
      "source": [
        "!grep classes cfg/yolov4_testing.cfg"
      ],
      "metadata": {
        "id": "7kYh7fstrMiw"
      },
      "execution_count": null,
      "outputs": []
    },
    {
      "cell_type": "markdown",
      "metadata": {
        "id": "orYTNWQC5MNK"
      },
      "source": [
        "### 3. Create .names and .data files"
      ]
    },
    {
      "cell_type": "code",
      "execution_count": null,
      "metadata": {
        "id": "Y2cGmhVK5MNR"
      },
      "outputs": [],
      "source": [
        "!echo -e 'Animal\\nPerson\\nVehicle' > data/obj.names\n",
        "!echo -e 'classes= 3\\ntrain  = data/train.txt\\nvalid  = data/test.txt\\nnames = data/obj.names\\nbackup = /content/drive/MyDrive/Models/yolov4' > data/obj.data\n"
      ]
    },
    {
      "cell_type": "markdown",
      "metadata": {
        "id": "SFBXLEqG5MNS"
      },
      "source": [
        "### 4. Save yolov4_training.cfg and obj.names files in Google Drive"
      ]
    },
    {
      "cell_type": "code",
      "execution_count": null,
      "metadata": {
        "id": "6QT5A3BRGVhA"
      },
      "outputs": [],
      "source": [
        "!mkdir /content/drive/MyDrive/Models/yolov4"
      ]
    },
    {
      "cell_type": "code",
      "execution_count": null,
      "metadata": {
        "id": "var8kBNj5MNS"
      },
      "outputs": [],
      "source": [
        "!cp cfg/yolov4_training.cfg /content/drive/MyDrive/Models/yolov4/yolov4_training.cfg\n",
        "!cp cfg/yolov4_training.cfg /content/drive/MyDrive/Models/yolov4/yolov4_testing.cfg\n",
        "!cp data/obj.names /content/drive/MyDrive/Models/yolov4/classes.txt"
      ]
    },
    {
      "cell_type": "markdown",
      "metadata": {
        "id": "viaXckLF5MNS"
      },
      "source": [
        "### 5. Create a Local Folder for image dataset"
      ]
    },
    {
      "cell_type": "code",
      "execution_count": null,
      "metadata": {
        "id": "Fh_RfUa15MNS"
      },
      "outputs": [],
      "source": [
        "!rm -r data/obj\n",
        "!mkdir data/obj\n",
        "!cp /content/drive/MyDrive/WBWL2020/res608/training/* data/obj/\n",
        "!cp /content/drive/MyDrive/WBWL2020/res608/validation/* data/obj/"
      ]
    },
    {
      "cell_type": "markdown",
      "metadata": {
        "id": "6Afpwxn35MNS"
      },
      "source": [
        "### 6. Create train.txt and train.txt files"
      ]
    },
    {
      "cell_type": "code",
      "execution_count": null,
      "metadata": {
        "id": "HwuaEyor5MNS"
      },
      "outputs": [],
      "source": [
        "import glob\n",
        "images_list = glob.glob(\"/content/drive/MyDrive/WBWL2020/res608/training/*.jpg\")\n",
        "with open(\"data/train.txt\", \"w\") as f:\n",
        "    f.write(\"\\n\".join(images_list))"
      ]
    },
    {
      "cell_type": "code",
      "execution_count": null,
      "metadata": {
        "id": "D2qdrGtE5MNS"
      },
      "outputs": [],
      "source": [
        "images_list = glob.glob(\"/content/drive/MyDrive/WBWL2020/res608/validation/*.jpg\")\n",
        "with open(\"data/test.txt\", \"w\") as f:\n",
        "  f.write(\"\\n\".join(images_list))"
      ]
    },
    {
      "cell_type": "code",
      "execution_count": null,
      "metadata": {
        "id": "h_IfXfAV5MNS"
      },
      "outputs": [],
      "source": [
        "!head data/train.txt"
      ]
    },
    {
      "cell_type": "markdown",
      "metadata": {
        "id": "O84-2Oeo5MNS"
      },
      "source": [
        "### 7. Download pre-trained wieght for the convoluational layers file"
      ]
    },
    {
      "cell_type": "code",
      "execution_count": null,
      "metadata": {
        "id": "9f9PLHLt5MNS"
      },
      "outputs": [],
      "source": [
        "!wget https://github.com/AlexeyAB/darknet/releases/download/darknet_yolo_v3_optimal/yolov4.weights"
      ]
    },
    {
      "cell_type": "markdown",
      "metadata": {
        "id": "V7wt_ft95MNT"
      },
      "source": [
        "### 8. Start Training"
      ]
    },
    {
      "cell_type": "code",
      "execution_count": null,
      "metadata": {
        "colab": {
          "background_save": true
        },
        "id": "oxVlY1XQ5MNT"
      },
      "outputs": [],
      "source": [
        "!./darknet detector train data/obj.data cfg/yolov4_training.cfg yolov4.weights -dont_show\n",
        "# Uncomment below and comment above to re-start your training from last saved weights\n",
        "#!./darknet detector train data/obj.data cfg/yolov4_training.cfg /content/drive/MyDrive/Models/yolov4/yolov4_training_last.weights -dont_show"
      ]
    },
    {
      "cell_type": "markdown",
      "metadata": {
        "id": "1pmxILi95MNT"
      },
      "source": [
        "### 9. Testing Resulting Model\n",
        "In which I run the validation set through the model to see how it works. "
      ]
    },
    {
      "cell_type": "code",
      "execution_count": null,
      "metadata": {
        "id": "8w8E2__N5MNT"
      },
      "outputs": [],
      "source": [
        "!rm -r results\n",
        "!mkdir results\n"
      ]
    },
    {
      "cell_type": "code",
      "execution_count": null,
      "metadata": {
        "id": "H3Y7coo95MNT"
      },
      "outputs": [],
      "source": [
        "!./darknet detector map data/obj.data cfg/yolov4_training.cfg /content/drive/MyDrive/Models/yolov4/yolov4_training_final.weights -dont_show"
      ]
    },
    {
      "cell_type": "markdown",
      "metadata": {
        "id": "S-RKsevEpNbY"
      },
      "source": [
        "#Archived -- Does not Work\n",
        "We're going to try to do this all in tensorflow 1.x \n",
        "\n",
        "2022-03-25: You can't start from a \"real\" yolov3 model.  The real models contain constructs that don't work on the Xilinx DPU.  Thus, you have to modify the model.  Once having appreciated this, I'm going back to a path which seemed to *almost* work.  Saving this for archive.\n",
        "\n",
        "We'll start by following https://github.com/YunYang1994/tensorflow-yolov3.git\n",
        "\n",
        "I found that I wanted to change some of the files in this repository, so I cloned myself a copy to modify at: https://github.com/robertzak133/tensorflow-yolov3.git\n",
        "\n",
        "```\n",
        "# This is formatted as code\n",
        "```\n",
        "\n",
        "\n"
      ]
    },
    {
      "cell_type": "markdown",
      "metadata": {
        "id": "TGvQy2SGeor5"
      },
      "source": [
        "### Set up environment, load models\n"
      ]
    },
    {
      "cell_type": "code",
      "execution_count": null,
      "metadata": {
        "id": "lx4hzZfopupY"
      },
      "outputs": [],
      "source": [
        "!git clone https://github.com/robertzak133/tensorflow-yolov3.git"
      ]
    },
    {
      "cell_type": "code",
      "execution_count": null,
      "metadata": {
        "id": "WJ7AeFp1a04U"
      },
      "outputs": [],
      "source": [
        "# according to https://stackoverflow.com/questions/57677160/cannot-import-name-keras-export-from-tensorflow-python-util-tf-export \n",
        "# this was why original was getting errors\n",
        "!pip uninstall -y tensorflow"
      ]
    },
    {
      "cell_type": "code",
      "execution_count": null,
      "metadata": {
        "id": "Do6CZ86-p-AH"
      },
      "outputs": [],
      "source": [
        "%cd tensorflow-yolov3\n",
        "# note that I had to hack in a slightly later version of tensorflow\n",
        "# !sed -i 's/tensorflow-gpu==1.11.0/tensorflow-gpu==1.13.1/' ./docs/requirements.txt\n",
        "!pip install -r ./docs/requirements.txt"
      ]
    },
    {
      "cell_type": "code",
      "execution_count": null,
      "metadata": {
        "id": "WHlGJN8sqzDY"
      },
      "outputs": [],
      "source": [
        "!more ./docs/requirements.txt"
      ]
    },
    {
      "cell_type": "code",
      "execution_count": null,
      "metadata": {
        "id": "Gz4mib4xq-mH"
      },
      "outputs": [],
      "source": [
        "%cd checkpoint\n",
        "!wget https://github.com/YunYang1994/tensorflow-yolov3/releases/download/v1.0/yolov3_coco.tar.gz\n",
        "!tar -xvf yolov3_coco.tar.gz\n"
      ]
    },
    {
      "cell_type": "code",
      "execution_count": null,
      "metadata": {
        "id": "PpWixS-7soB1"
      },
      "outputs": [],
      "source": [
        "%cd ..\n",
        "!python convert_weight.py\n",
        "!python freeze_graph.py"
      ]
    },
    {
      "cell_type": "code",
      "execution_count": null,
      "metadata": {
        "id": "hc2tEK7bcBu1"
      },
      "outputs": [],
      "source": [
        "!ls\n"
      ]
    },
    {
      "cell_type": "code",
      "execution_count": null,
      "metadata": {
        "id": "pVu0XxJlcaMv"
      },
      "outputs": [],
      "source": [
        "# Copy resulting model to google drive so I can verify that the \n",
        "#      baseline model (before I start mucking with it) quantizes\n",
        "#      with Xilinx tools\n",
        "!cp yolov3_coco.pb /content/drive/MyDrive/Models/yolov3_coco/"
      ]
    },
    {
      "cell_type": "code",
      "execution_count": null,
      "metadata": {
        "id": "YvuMZ4fehcGg"
      },
      "outputs": [],
      "source": [
        "# tweak image_demo.py for colab environment\n",
        "!sed -i '52 s/image/image(convert)/' ./image_demo.py"
      ]
    },
    {
      "cell_type": "code",
      "execution_count": null,
      "metadata": {
        "id": "IBGv4mmyh-Oo"
      },
      "outputs": [],
      "source": [
        "!tail image_demo.py"
      ]
    },
    {
      "cell_type": "code",
      "execution_count": null,
      "metadata": {
        "id": "F45WkbbSeE4p"
      },
      "outputs": [],
      "source": [
        "# Test out model on demo image\n",
        "# (runs, but display doesn't seem to work on Colab)\n",
        "!python image_demo.py"
      ]
    },
    {
      "cell_type": "code",
      "execution_count": null,
      "metadata": {
        "id": "recstbCDi2mf"
      },
      "outputs": [],
      "source": [
        "%tensorflow_version 1.x\n",
        "import tensorflow\n",
        "print(tensorflow.__version__)"
      ]
    },
    {
      "cell_type": "code",
      "execution_count": null,
      "metadata": {
        "id": "ns_E_ue6bR4N"
      },
      "outputs": [],
      "source": [
        "pip install mmdnn"
      ]
    },
    {
      "cell_type": "code",
      "execution_count": null,
      "metadata": {
        "id": "SIjZCDn0bwZy"
      },
      "outputs": [],
      "source": [
        "!mmtoir -f darknet -n /content/drive/MyDrive/Models/yolov3/yolov3_testing.cfg -w /content/drive/MyDrive/Models/yolov3/yolov3_training_final.weights -o /content/drive/MyDrive/Models/yolov3/darknet_yolov3 --darknetStart 0"
      ]
    },
    {
      "cell_type": "code",
      "execution_count": null,
      "metadata": {
        "id": "5Qjy9EtcXy5c"
      },
      "outputs": [],
      "source": [
        "!ls -alst /content/drive/MyDrive/Models/yolov3/"
      ]
    }
  ],
  "metadata": {
    "accelerator": "GPU",
    "colab": {
      "collapsed_sections": [
        "N4kVO3QiHepI",
        "nqpGQoFVI7r3",
        "AuhO4wkEJgMt",
        "PbOKRUiMrm8t",
        "-ghOa7grrx7B",
        "NviDrc7bsHQB",
        "eDxFCFkCDKpF",
        "S-RKsevEpNbY",
        "TGvQy2SGeor5"
      ],
      "machine_shape": "hm",
      "name": "Retrain-Yolo-Model-Customer-Data-Classes.ipynb",
      "private_outputs": true,
      "provenance": [],
      "authorship_tag": "ABX9TyOL04jEeJ348P46iMnDoYZy",
      "include_colab_link": true
    },
    "kernelspec": {
      "display_name": "Python 3",
      "name": "python3"
    },
    "language_info": {
      "name": "python"
    }
  },
  "nbformat": 4,
  "nbformat_minor": 0
}